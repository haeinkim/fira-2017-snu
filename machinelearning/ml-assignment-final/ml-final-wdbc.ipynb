{
 "cells": [
  {
   "cell_type": "markdown",
   "metadata": {},
   "source": [
    "# Machine learning project\n",
    "\n",
    "### FIRA, Seoul National University\n",
    "### AI agent, Machine Learning class\n",
    "\n",
    "## Project description\n",
    "The objective of this project is to apply learnt machine learning techniques to the Wisconsin Diagnostic Breast Cancer (WDBC) data. The WDBC data is class labeled, hence it will be a classification problem. The data has two classes (B=Benign, M=Malignant) and 32 attributes, or features.\n",
    "\n",
    "Using the following machine learning techniques, you are asked to build classifiers to predict the classes of the data. For the machine learning techniques, use 1) **Linear regression**, 2) **Random Forest**, 3) **Neural network** and 4) **K-means algorithm**.\n",
    "\n",
    "Despite the data has label information, the unsupervised K-means clustering shall be applied to the data to compare it with the classification results (i.e., does the clustering algorithm well differentiate the Benign data from the Malignant data without using the label data?). \n",
    "\n",
    "### Data Description\n",
    "* Data Set Characteristics:  \tMultivariate\t\n",
    "* Number of Instances:\t569\t\n",
    "* Area:\tLife\n",
    "* Attribute Characteristics:\tReal\t\n",
    "* Number of Attributes:\t32\t\n",
    "* Date Donated\t1995-11-01\n",
    "* Associated Tasks:\tClassification\t\n",
    "* Missing Values?\tNo\t\n",
    "* Number of Web Hits:\t563646\n",
    "\n",
    "Features are computed from a digitized image of a fine needle aspirate (FNA) of a breast mass. They describe characteristics of the cell nuclei present in the image.\n",
    "\n",
    "* Data file: “wdbc.data”\n",
    "* Class distribution: 357 benign, 212 malignant (total 569 data)\n",
    "* Attribute Information:\n",
    "The attribute or features are measured from each image as shown above. Below is the description of each feature column in the “wdbc.data” file. \n",
    "1. ID number \n",
    "2. Diagnosis (M = malignant, B = benign)  this is the class label\n",
    "3-32) \n",
    "Ten real-valued features are computed for each cell nucleus: \n",
    "a. radius (mean of distances from center to points on the perimeter) \n",
    "b. texture (standard deviation of gray-scale values) \n",
    "c. perimeter \n",
    "d. area \n",
    "e. smoothness (local variation in radius lengths) \n",
    "f. compactness (perimeter^2 / area - 1.0) \n",
    "g. concavity (severity of concave portions of the contour) \n",
    "h. concave points (number of concave portions of the contour) \n",
    "i. symmetry \n",
    "j. fractal dimension (\"coastline approximation\" - 1)\n",
    "* The mean, standard error, and \"worst\" or largest (mean of the three largest values) of these features were computed for each image, resulting in 30 features.  For instance, field 3 is Mean Radius, field 13 is Radius SE, field 23 is Worst Radius. All feature values are recoded with four significant digits.\n",
    "\n",
    "Missing attribute values: none\n",
    "\n",
    "### Project tasks\n",
    "\n",
    "1.\tBuild classifiers using Linear Regression, Random Forest and Neural Networks\n",
    "2.\tPerform cross validation to measure each methods classification accuracy\n",
    "3.\tDiscuss the result of each method\n",
    "    * A.\tLinear Regression: What are the coefficients of the Linear Regression\n",
    "    * B.\tRandom Forest: What 5 features are the most informative and what are their information strength (i.e., information gain)?\n",
    "    * C.\tNeural Network: How does the classification accuracy change with different number of hidden layers?\n",
    "4.\tPerform K-means clustering\n",
    "    * A.\tMeasure the rand index, and silhouette scores\n",
    "    * B.\tHow does the score change with K={2,3,…, 10}?\n",
    "    * C.\tDiscuss the result of the clustering by comparing it with the classification results\n",
    "\n",
    "The report shall include the following contents and shall be less than 5 pages:\n",
    "-\tIntroduction (One paragraph)\n",
    "-\tMethod\n",
    "-\tResults\n",
    "-\tDiscussion\n",
    "-\tConclusion\n"
   ]
  },
  {
   "cell_type": "markdown",
   "metadata": {},
   "source": [
    "# Introduction"
   ]
  },
  {
   "cell_type": "markdown",
   "metadata": {},
   "source": [
    "Many different machine learning(ML) algorithms has been developed in decades, and these tasks give lots of benefit to make a prediction from many different problems. In this project, I simply applied several ML algorithms to diagnose malignant breast cancer from the Wisconsin Diagnostic Breast Cancer(WDBC) dataset. "
   ]
  },
  {
   "cell_type": "markdown",
   "metadata": {},
   "source": [
    "# Method"
   ]
  },
  {
   "cell_type": "markdown",
   "metadata": {},
   "source": [
    "I have used four typical ML algorithms: Linear Regression, Random Forest, Neural Networks, K-Means clustering. Each model is evaluated by the different score calculations. "
   ]
  },
  {
   "cell_type": "markdown",
   "metadata": {},
   "source": [
    "## Cleaning data"
   ]
  },
  {
   "cell_type": "code",
   "execution_count": 1,
   "metadata": {
    "collapsed": true
   },
   "outputs": [],
   "source": [
    "import os\n",
    "import numpy as np\n",
    "import pandas as pd\n",
    "from pandas.plotting import scatter_matrix\n",
    "import matplotlib.pyplot as plt\n",
    "from sklearn.datasets import load_breast_cancer\n",
    "from sklearn.model_selection import train_test_split\n",
    "from sklearn.cluster import KMeans\n",
    "\n",
    "%matplotlib inline\n",
    "np.random.seed(923)"
   ]
  },
  {
   "cell_type": "markdown",
   "metadata": {},
   "source": [
    "### Loading the data"
   ]
  },
  {
   "cell_type": "code",
   "execution_count": 2,
   "metadata": {
    "collapsed": true
   },
   "outputs": [],
   "source": [
    "wdbc_master = load_breast_cancer()"
   ]
  },
  {
   "cell_type": "code",
   "execution_count": 3,
   "metadata": {
    "collapsed": true
   },
   "outputs": [],
   "source": [
    "COL_NAMES = wdbc_master['feature_names']\n",
    "COL_NAMES_TARGET = ['label']\n",
    "DATA = wdbc_master['data']\n",
    "TARGET = wdbc_master['target']"
   ]
  },
  {
   "cell_type": "code",
   "execution_count": 4,
   "metadata": {},
   "outputs": [
    {
     "data": {
      "text/html": [
       "<div>\n",
       "<style>\n",
       "    .dataframe thead tr:only-child th {\n",
       "        text-align: right;\n",
       "    }\n",
       "\n",
       "    .dataframe thead th {\n",
       "        text-align: left;\n",
       "    }\n",
       "\n",
       "    .dataframe tbody tr th {\n",
       "        vertical-align: top;\n",
       "    }\n",
       "</style>\n",
       "<table border=\"1\" class=\"dataframe\">\n",
       "  <thead>\n",
       "    <tr style=\"text-align: right;\">\n",
       "      <th></th>\n",
       "      <th>mean radius</th>\n",
       "      <th>mean texture</th>\n",
       "      <th>mean perimeter</th>\n",
       "      <th>mean area</th>\n",
       "      <th>mean smoothness</th>\n",
       "      <th>mean compactness</th>\n",
       "      <th>mean concavity</th>\n",
       "      <th>mean concave points</th>\n",
       "      <th>mean symmetry</th>\n",
       "      <th>mean fractal dimension</th>\n",
       "      <th>...</th>\n",
       "      <th>worst radius</th>\n",
       "      <th>worst texture</th>\n",
       "      <th>worst perimeter</th>\n",
       "      <th>worst area</th>\n",
       "      <th>worst smoothness</th>\n",
       "      <th>worst compactness</th>\n",
       "      <th>worst concavity</th>\n",
       "      <th>worst concave points</th>\n",
       "      <th>worst symmetry</th>\n",
       "      <th>worst fractal dimension</th>\n",
       "    </tr>\n",
       "  </thead>\n",
       "  <tbody>\n",
       "    <tr>\n",
       "      <th>0</th>\n",
       "      <td>17.99</td>\n",
       "      <td>10.38</td>\n",
       "      <td>122.80</td>\n",
       "      <td>1001.0</td>\n",
       "      <td>0.11840</td>\n",
       "      <td>0.27760</td>\n",
       "      <td>0.3001</td>\n",
       "      <td>0.14710</td>\n",
       "      <td>0.2419</td>\n",
       "      <td>0.07871</td>\n",
       "      <td>...</td>\n",
       "      <td>25.38</td>\n",
       "      <td>17.33</td>\n",
       "      <td>184.60</td>\n",
       "      <td>2019.0</td>\n",
       "      <td>0.1622</td>\n",
       "      <td>0.6656</td>\n",
       "      <td>0.7119</td>\n",
       "      <td>0.2654</td>\n",
       "      <td>0.4601</td>\n",
       "      <td>0.11890</td>\n",
       "    </tr>\n",
       "    <tr>\n",
       "      <th>1</th>\n",
       "      <td>20.57</td>\n",
       "      <td>17.77</td>\n",
       "      <td>132.90</td>\n",
       "      <td>1326.0</td>\n",
       "      <td>0.08474</td>\n",
       "      <td>0.07864</td>\n",
       "      <td>0.0869</td>\n",
       "      <td>0.07017</td>\n",
       "      <td>0.1812</td>\n",
       "      <td>0.05667</td>\n",
       "      <td>...</td>\n",
       "      <td>24.99</td>\n",
       "      <td>23.41</td>\n",
       "      <td>158.80</td>\n",
       "      <td>1956.0</td>\n",
       "      <td>0.1238</td>\n",
       "      <td>0.1866</td>\n",
       "      <td>0.2416</td>\n",
       "      <td>0.1860</td>\n",
       "      <td>0.2750</td>\n",
       "      <td>0.08902</td>\n",
       "    </tr>\n",
       "    <tr>\n",
       "      <th>2</th>\n",
       "      <td>19.69</td>\n",
       "      <td>21.25</td>\n",
       "      <td>130.00</td>\n",
       "      <td>1203.0</td>\n",
       "      <td>0.10960</td>\n",
       "      <td>0.15990</td>\n",
       "      <td>0.1974</td>\n",
       "      <td>0.12790</td>\n",
       "      <td>0.2069</td>\n",
       "      <td>0.05999</td>\n",
       "      <td>...</td>\n",
       "      <td>23.57</td>\n",
       "      <td>25.53</td>\n",
       "      <td>152.50</td>\n",
       "      <td>1709.0</td>\n",
       "      <td>0.1444</td>\n",
       "      <td>0.4245</td>\n",
       "      <td>0.4504</td>\n",
       "      <td>0.2430</td>\n",
       "      <td>0.3613</td>\n",
       "      <td>0.08758</td>\n",
       "    </tr>\n",
       "    <tr>\n",
       "      <th>3</th>\n",
       "      <td>11.42</td>\n",
       "      <td>20.38</td>\n",
       "      <td>77.58</td>\n",
       "      <td>386.1</td>\n",
       "      <td>0.14250</td>\n",
       "      <td>0.28390</td>\n",
       "      <td>0.2414</td>\n",
       "      <td>0.10520</td>\n",
       "      <td>0.2597</td>\n",
       "      <td>0.09744</td>\n",
       "      <td>...</td>\n",
       "      <td>14.91</td>\n",
       "      <td>26.50</td>\n",
       "      <td>98.87</td>\n",
       "      <td>567.7</td>\n",
       "      <td>0.2098</td>\n",
       "      <td>0.8663</td>\n",
       "      <td>0.6869</td>\n",
       "      <td>0.2575</td>\n",
       "      <td>0.6638</td>\n",
       "      <td>0.17300</td>\n",
       "    </tr>\n",
       "    <tr>\n",
       "      <th>4</th>\n",
       "      <td>20.29</td>\n",
       "      <td>14.34</td>\n",
       "      <td>135.10</td>\n",
       "      <td>1297.0</td>\n",
       "      <td>0.10030</td>\n",
       "      <td>0.13280</td>\n",
       "      <td>0.1980</td>\n",
       "      <td>0.10430</td>\n",
       "      <td>0.1809</td>\n",
       "      <td>0.05883</td>\n",
       "      <td>...</td>\n",
       "      <td>22.54</td>\n",
       "      <td>16.67</td>\n",
       "      <td>152.20</td>\n",
       "      <td>1575.0</td>\n",
       "      <td>0.1374</td>\n",
       "      <td>0.2050</td>\n",
       "      <td>0.4000</td>\n",
       "      <td>0.1625</td>\n",
       "      <td>0.2364</td>\n",
       "      <td>0.07678</td>\n",
       "    </tr>\n",
       "  </tbody>\n",
       "</table>\n",
       "<p>5 rows × 30 columns</p>\n",
       "</div>"
      ],
      "text/plain": [
       "   mean radius  mean texture  mean perimeter  mean area  mean smoothness  \\\n",
       "0        17.99         10.38          122.80     1001.0          0.11840   \n",
       "1        20.57         17.77          132.90     1326.0          0.08474   \n",
       "2        19.69         21.25          130.00     1203.0          0.10960   \n",
       "3        11.42         20.38           77.58      386.1          0.14250   \n",
       "4        20.29         14.34          135.10     1297.0          0.10030   \n",
       "\n",
       "   mean compactness  mean concavity  mean concave points  mean symmetry  \\\n",
       "0           0.27760          0.3001              0.14710         0.2419   \n",
       "1           0.07864          0.0869              0.07017         0.1812   \n",
       "2           0.15990          0.1974              0.12790         0.2069   \n",
       "3           0.28390          0.2414              0.10520         0.2597   \n",
       "4           0.13280          0.1980              0.10430         0.1809   \n",
       "\n",
       "   mean fractal dimension           ...             worst radius  \\\n",
       "0                 0.07871           ...                    25.38   \n",
       "1                 0.05667           ...                    24.99   \n",
       "2                 0.05999           ...                    23.57   \n",
       "3                 0.09744           ...                    14.91   \n",
       "4                 0.05883           ...                    22.54   \n",
       "\n",
       "   worst texture  worst perimeter  worst area  worst smoothness  \\\n",
       "0          17.33           184.60      2019.0            0.1622   \n",
       "1          23.41           158.80      1956.0            0.1238   \n",
       "2          25.53           152.50      1709.0            0.1444   \n",
       "3          26.50            98.87       567.7            0.2098   \n",
       "4          16.67           152.20      1575.0            0.1374   \n",
       "\n",
       "   worst compactness  worst concavity  worst concave points  worst symmetry  \\\n",
       "0             0.6656           0.7119                0.2654          0.4601   \n",
       "1             0.1866           0.2416                0.1860          0.2750   \n",
       "2             0.4245           0.4504                0.2430          0.3613   \n",
       "3             0.8663           0.6869                0.2575          0.6638   \n",
       "4             0.2050           0.4000                0.1625          0.2364   \n",
       "\n",
       "   worst fractal dimension  \n",
       "0                  0.11890  \n",
       "1                  0.08902  \n",
       "2                  0.08758  \n",
       "3                  0.17300  \n",
       "4                  0.07678  \n",
       "\n",
       "[5 rows x 30 columns]"
      ]
     },
     "execution_count": 4,
     "metadata": {},
     "output_type": "execute_result"
    }
   ],
   "source": [
    "wdbc_original= pd.DataFrame(DATA, columns=COL_NAMES)\n",
    "wdbc_original.head(5)"
   ]
  },
  {
   "cell_type": "markdown",
   "metadata": {},
   "source": [
    "### Scaling the data"
   ]
  },
  {
   "cell_type": "code",
   "execution_count": 5,
   "metadata": {
    "collapsed": true
   },
   "outputs": [],
   "source": [
    "from sklearn.preprocessing import StandardScaler\n",
    "\n",
    "scaler = StandardScaler()\n",
    "wdbc_data_scaled = scaler.fit_transform(DATA.astype(np.float64))"
   ]
  },
  {
   "cell_type": "code",
   "execution_count": 6,
   "metadata": {},
   "outputs": [
    {
     "data": {
      "text/html": [
       "<div>\n",
       "<style>\n",
       "    .dataframe thead tr:only-child th {\n",
       "        text-align: right;\n",
       "    }\n",
       "\n",
       "    .dataframe thead th {\n",
       "        text-align: left;\n",
       "    }\n",
       "\n",
       "    .dataframe tbody tr th {\n",
       "        vertical-align: top;\n",
       "    }\n",
       "</style>\n",
       "<table border=\"1\" class=\"dataframe\">\n",
       "  <thead>\n",
       "    <tr style=\"text-align: right;\">\n",
       "      <th></th>\n",
       "      <th>0</th>\n",
       "      <th>1</th>\n",
       "    </tr>\n",
       "  </thead>\n",
       "  <tbody>\n",
       "    <tr>\n",
       "      <th>0</th>\n",
       "      <td>1</td>\n",
       "      <td>0</td>\n",
       "    </tr>\n",
       "    <tr>\n",
       "      <th>1</th>\n",
       "      <td>1</td>\n",
       "      <td>0</td>\n",
       "    </tr>\n",
       "    <tr>\n",
       "      <th>2</th>\n",
       "      <td>1</td>\n",
       "      <td>0</td>\n",
       "    </tr>\n",
       "    <tr>\n",
       "      <th>3</th>\n",
       "      <td>1</td>\n",
       "      <td>0</td>\n",
       "    </tr>\n",
       "    <tr>\n",
       "      <th>4</th>\n",
       "      <td>1</td>\n",
       "      <td>0</td>\n",
       "    </tr>\n",
       "  </tbody>\n",
       "</table>\n",
       "</div>"
      ],
      "text/plain": [
       "   0  1\n",
       "0  1  0\n",
       "1  1  0\n",
       "2  1  0\n",
       "3  1  0\n",
       "4  1  0"
      ]
     },
     "execution_count": 6,
     "metadata": {},
     "output_type": "execute_result"
    }
   ],
   "source": [
    "wdbc_data= pd.DataFrame(wdbc_data_scaled, columns=COL_NAMES)\n",
    "wdbc_target = pd.DataFrame(TARGET, columns=COL_NAMES_TARGET)\n",
    "wdbc_target = pd.get_dummies(wdbc_target['label'])\n",
    "wdbc_target.head(5)"
   ]
  },
  {
   "cell_type": "markdown",
   "metadata": {},
   "source": [
    "### Exploratory data analysis"
   ]
  },
  {
   "cell_type": "code",
   "execution_count": 7,
   "metadata": {},
   "outputs": [
    {
     "name": "stdout",
     "output_type": "stream",
     "text": [
      "<class 'pandas.core.frame.DataFrame'>\n",
      "RangeIndex: 569 entries, 0 to 568\n",
      "Data columns (total 30 columns):\n",
      "mean radius                569 non-null float64\n",
      "mean texture               569 non-null float64\n",
      "mean perimeter             569 non-null float64\n",
      "mean area                  569 non-null float64\n",
      "mean smoothness            569 non-null float64\n",
      "mean compactness           569 non-null float64\n",
      "mean concavity             569 non-null float64\n",
      "mean concave points        569 non-null float64\n",
      "mean symmetry              569 non-null float64\n",
      "mean fractal dimension     569 non-null float64\n",
      "radius error               569 non-null float64\n",
      "texture error              569 non-null float64\n",
      "perimeter error            569 non-null float64\n",
      "area error                 569 non-null float64\n",
      "smoothness error           569 non-null float64\n",
      "compactness error          569 non-null float64\n",
      "concavity error            569 non-null float64\n",
      "concave points error       569 non-null float64\n",
      "symmetry error             569 non-null float64\n",
      "fractal dimension error    569 non-null float64\n",
      "worst radius               569 non-null float64\n",
      "worst texture              569 non-null float64\n",
      "worst perimeter            569 non-null float64\n",
      "worst area                 569 non-null float64\n",
      "worst smoothness           569 non-null float64\n",
      "worst compactness          569 non-null float64\n",
      "worst concavity            569 non-null float64\n",
      "worst concave points       569 non-null float64\n",
      "worst symmetry             569 non-null float64\n",
      "worst fractal dimension    569 non-null float64\n",
      "dtypes: float64(30)\n",
      "memory usage: 133.4 KB\n"
     ]
    }
   ],
   "source": [
    "wdbc_data.info()"
   ]
  },
  {
   "cell_type": "code",
   "execution_count": 8,
   "metadata": {},
   "outputs": [
    {
     "data": {
      "text/html": [
       "<div>\n",
       "<style>\n",
       "    .dataframe thead tr:only-child th {\n",
       "        text-align: right;\n",
       "    }\n",
       "\n",
       "    .dataframe thead th {\n",
       "        text-align: left;\n",
       "    }\n",
       "\n",
       "    .dataframe tbody tr th {\n",
       "        vertical-align: top;\n",
       "    }\n",
       "</style>\n",
       "<table border=\"1\" class=\"dataframe\">\n",
       "  <thead>\n",
       "    <tr style=\"text-align: right;\">\n",
       "      <th></th>\n",
       "      <th>mean radius</th>\n",
       "      <th>mean texture</th>\n",
       "      <th>mean perimeter</th>\n",
       "      <th>mean area</th>\n",
       "      <th>mean smoothness</th>\n",
       "      <th>mean compactness</th>\n",
       "      <th>mean concavity</th>\n",
       "      <th>mean concave points</th>\n",
       "      <th>mean symmetry</th>\n",
       "      <th>mean fractal dimension</th>\n",
       "      <th>...</th>\n",
       "      <th>worst radius</th>\n",
       "      <th>worst texture</th>\n",
       "      <th>worst perimeter</th>\n",
       "      <th>worst area</th>\n",
       "      <th>worst smoothness</th>\n",
       "      <th>worst compactness</th>\n",
       "      <th>worst concavity</th>\n",
       "      <th>worst concave points</th>\n",
       "      <th>worst symmetry</th>\n",
       "      <th>worst fractal dimension</th>\n",
       "    </tr>\n",
       "  </thead>\n",
       "  <tbody>\n",
       "    <tr>\n",
       "      <th>count</th>\n",
       "      <td>5.690000e+02</td>\n",
       "      <td>5.690000e+02</td>\n",
       "      <td>5.690000e+02</td>\n",
       "      <td>5.690000e+02</td>\n",
       "      <td>5.690000e+02</td>\n",
       "      <td>5.690000e+02</td>\n",
       "      <td>5.690000e+02</td>\n",
       "      <td>5.690000e+02</td>\n",
       "      <td>5.690000e+02</td>\n",
       "      <td>5.690000e+02</td>\n",
       "      <td>...</td>\n",
       "      <td>5.690000e+02</td>\n",
       "      <td>5.690000e+02</td>\n",
       "      <td>5.690000e+02</td>\n",
       "      <td>5.690000e+02</td>\n",
       "      <td>5.690000e+02</td>\n",
       "      <td>5.690000e+02</td>\n",
       "      <td>5.690000e+02</td>\n",
       "      <td>5.690000e+02</td>\n",
       "      <td>5.690000e+02</td>\n",
       "      <td>5.690000e+02</td>\n",
       "    </tr>\n",
       "    <tr>\n",
       "      <th>mean</th>\n",
       "      <td>-3.162867e-15</td>\n",
       "      <td>-6.530609e-15</td>\n",
       "      <td>-7.078891e-16</td>\n",
       "      <td>-8.799835e-16</td>\n",
       "      <td>6.132177e-15</td>\n",
       "      <td>-1.120369e-15</td>\n",
       "      <td>-4.421380e-16</td>\n",
       "      <td>9.732500e-16</td>\n",
       "      <td>-1.971670e-15</td>\n",
       "      <td>-1.453631e-15</td>\n",
       "      <td>...</td>\n",
       "      <td>-2.333224e-15</td>\n",
       "      <td>1.763674e-15</td>\n",
       "      <td>-1.198026e-15</td>\n",
       "      <td>5.049661e-16</td>\n",
       "      <td>-5.213170e-15</td>\n",
       "      <td>-2.174788e-15</td>\n",
       "      <td>6.856456e-16</td>\n",
       "      <td>-1.412656e-16</td>\n",
       "      <td>-2.289567e-15</td>\n",
       "      <td>2.575171e-15</td>\n",
       "    </tr>\n",
       "    <tr>\n",
       "      <th>std</th>\n",
       "      <td>1.000880e+00</td>\n",
       "      <td>1.000880e+00</td>\n",
       "      <td>1.000880e+00</td>\n",
       "      <td>1.000880e+00</td>\n",
       "      <td>1.000880e+00</td>\n",
       "      <td>1.000880e+00</td>\n",
       "      <td>1.000880e+00</td>\n",
       "      <td>1.000880e+00</td>\n",
       "      <td>1.000880e+00</td>\n",
       "      <td>1.000880e+00</td>\n",
       "      <td>...</td>\n",
       "      <td>1.000880e+00</td>\n",
       "      <td>1.000880e+00</td>\n",
       "      <td>1.000880e+00</td>\n",
       "      <td>1.000880e+00</td>\n",
       "      <td>1.000880e+00</td>\n",
       "      <td>1.000880e+00</td>\n",
       "      <td>1.000880e+00</td>\n",
       "      <td>1.000880e+00</td>\n",
       "      <td>1.000880e+00</td>\n",
       "      <td>1.000880e+00</td>\n",
       "    </tr>\n",
       "    <tr>\n",
       "      <th>min</th>\n",
       "      <td>-2.029648e+00</td>\n",
       "      <td>-2.229249e+00</td>\n",
       "      <td>-1.984504e+00</td>\n",
       "      <td>-1.454443e+00</td>\n",
       "      <td>-3.112085e+00</td>\n",
       "      <td>-1.610136e+00</td>\n",
       "      <td>-1.114873e+00</td>\n",
       "      <td>-1.261820e+00</td>\n",
       "      <td>-2.744117e+00</td>\n",
       "      <td>-1.819865e+00</td>\n",
       "      <td>...</td>\n",
       "      <td>-1.726901e+00</td>\n",
       "      <td>-2.223994e+00</td>\n",
       "      <td>-1.693361e+00</td>\n",
       "      <td>-1.222423e+00</td>\n",
       "      <td>-2.682695e+00</td>\n",
       "      <td>-1.443878e+00</td>\n",
       "      <td>-1.305831e+00</td>\n",
       "      <td>-1.745063e+00</td>\n",
       "      <td>-2.160960e+00</td>\n",
       "      <td>-1.601839e+00</td>\n",
       "    </tr>\n",
       "    <tr>\n",
       "      <th>25%</th>\n",
       "      <td>-6.893853e-01</td>\n",
       "      <td>-7.259631e-01</td>\n",
       "      <td>-6.919555e-01</td>\n",
       "      <td>-6.671955e-01</td>\n",
       "      <td>-7.109628e-01</td>\n",
       "      <td>-7.470860e-01</td>\n",
       "      <td>-7.437479e-01</td>\n",
       "      <td>-7.379438e-01</td>\n",
       "      <td>-7.032397e-01</td>\n",
       "      <td>-7.226392e-01</td>\n",
       "      <td>...</td>\n",
       "      <td>-6.749213e-01</td>\n",
       "      <td>-7.486293e-01</td>\n",
       "      <td>-6.895783e-01</td>\n",
       "      <td>-6.421359e-01</td>\n",
       "      <td>-6.912304e-01</td>\n",
       "      <td>-6.810833e-01</td>\n",
       "      <td>-7.565142e-01</td>\n",
       "      <td>-7.563999e-01</td>\n",
       "      <td>-6.418637e-01</td>\n",
       "      <td>-6.919118e-01</td>\n",
       "    </tr>\n",
       "    <tr>\n",
       "      <th>50%</th>\n",
       "      <td>-2.150816e-01</td>\n",
       "      <td>-1.046362e-01</td>\n",
       "      <td>-2.359800e-01</td>\n",
       "      <td>-2.951869e-01</td>\n",
       "      <td>-3.489108e-02</td>\n",
       "      <td>-2.219405e-01</td>\n",
       "      <td>-3.422399e-01</td>\n",
       "      <td>-3.977212e-01</td>\n",
       "      <td>-7.162650e-02</td>\n",
       "      <td>-1.782793e-01</td>\n",
       "      <td>...</td>\n",
       "      <td>-2.690395e-01</td>\n",
       "      <td>-4.351564e-02</td>\n",
       "      <td>-2.859802e-01</td>\n",
       "      <td>-3.411812e-01</td>\n",
       "      <td>-4.684277e-02</td>\n",
       "      <td>-2.695009e-01</td>\n",
       "      <td>-2.182321e-01</td>\n",
       "      <td>-2.234689e-01</td>\n",
       "      <td>-1.274095e-01</td>\n",
       "      <td>-2.164441e-01</td>\n",
       "    </tr>\n",
       "    <tr>\n",
       "      <th>75%</th>\n",
       "      <td>4.693926e-01</td>\n",
       "      <td>5.841756e-01</td>\n",
       "      <td>4.996769e-01</td>\n",
       "      <td>3.635073e-01</td>\n",
       "      <td>6.361990e-01</td>\n",
       "      <td>4.938569e-01</td>\n",
       "      <td>5.260619e-01</td>\n",
       "      <td>6.469351e-01</td>\n",
       "      <td>5.307792e-01</td>\n",
       "      <td>4.709834e-01</td>\n",
       "      <td>...</td>\n",
       "      <td>5.220158e-01</td>\n",
       "      <td>6.583411e-01</td>\n",
       "      <td>5.402790e-01</td>\n",
       "      <td>3.575891e-01</td>\n",
       "      <td>5.975448e-01</td>\n",
       "      <td>5.396688e-01</td>\n",
       "      <td>5.311411e-01</td>\n",
       "      <td>7.125100e-01</td>\n",
       "      <td>4.501382e-01</td>\n",
       "      <td>4.507624e-01</td>\n",
       "    </tr>\n",
       "    <tr>\n",
       "      <th>max</th>\n",
       "      <td>3.971288e+00</td>\n",
       "      <td>4.651889e+00</td>\n",
       "      <td>3.976130e+00</td>\n",
       "      <td>5.250529e+00</td>\n",
       "      <td>4.770911e+00</td>\n",
       "      <td>4.568425e+00</td>\n",
       "      <td>4.243589e+00</td>\n",
       "      <td>3.927930e+00</td>\n",
       "      <td>4.484751e+00</td>\n",
       "      <td>4.910919e+00</td>\n",
       "      <td>...</td>\n",
       "      <td>4.094189e+00</td>\n",
       "      <td>3.885905e+00</td>\n",
       "      <td>4.287337e+00</td>\n",
       "      <td>5.930172e+00</td>\n",
       "      <td>3.955374e+00</td>\n",
       "      <td>5.112877e+00</td>\n",
       "      <td>4.700669e+00</td>\n",
       "      <td>2.685877e+00</td>\n",
       "      <td>6.046041e+00</td>\n",
       "      <td>6.846856e+00</td>\n",
       "    </tr>\n",
       "  </tbody>\n",
       "</table>\n",
       "<p>8 rows × 30 columns</p>\n",
       "</div>"
      ],
      "text/plain": [
       "        mean radius  mean texture  mean perimeter     mean area  \\\n",
       "count  5.690000e+02  5.690000e+02    5.690000e+02  5.690000e+02   \n",
       "mean  -3.162867e-15 -6.530609e-15   -7.078891e-16 -8.799835e-16   \n",
       "std    1.000880e+00  1.000880e+00    1.000880e+00  1.000880e+00   \n",
       "min   -2.029648e+00 -2.229249e+00   -1.984504e+00 -1.454443e+00   \n",
       "25%   -6.893853e-01 -7.259631e-01   -6.919555e-01 -6.671955e-01   \n",
       "50%   -2.150816e-01 -1.046362e-01   -2.359800e-01 -2.951869e-01   \n",
       "75%    4.693926e-01  5.841756e-01    4.996769e-01  3.635073e-01   \n",
       "max    3.971288e+00  4.651889e+00    3.976130e+00  5.250529e+00   \n",
       "\n",
       "       mean smoothness  mean compactness  mean concavity  mean concave points  \\\n",
       "count     5.690000e+02      5.690000e+02    5.690000e+02         5.690000e+02   \n",
       "mean      6.132177e-15     -1.120369e-15   -4.421380e-16         9.732500e-16   \n",
       "std       1.000880e+00      1.000880e+00    1.000880e+00         1.000880e+00   \n",
       "min      -3.112085e+00     -1.610136e+00   -1.114873e+00        -1.261820e+00   \n",
       "25%      -7.109628e-01     -7.470860e-01   -7.437479e-01        -7.379438e-01   \n",
       "50%      -3.489108e-02     -2.219405e-01   -3.422399e-01        -3.977212e-01   \n",
       "75%       6.361990e-01      4.938569e-01    5.260619e-01         6.469351e-01   \n",
       "max       4.770911e+00      4.568425e+00    4.243589e+00         3.927930e+00   \n",
       "\n",
       "       mean symmetry  mean fractal dimension           ...             \\\n",
       "count   5.690000e+02            5.690000e+02           ...              \n",
       "mean   -1.971670e-15           -1.453631e-15           ...              \n",
       "std     1.000880e+00            1.000880e+00           ...              \n",
       "min    -2.744117e+00           -1.819865e+00           ...              \n",
       "25%    -7.032397e-01           -7.226392e-01           ...              \n",
       "50%    -7.162650e-02           -1.782793e-01           ...              \n",
       "75%     5.307792e-01            4.709834e-01           ...              \n",
       "max     4.484751e+00            4.910919e+00           ...              \n",
       "\n",
       "       worst radius  worst texture  worst perimeter    worst area  \\\n",
       "count  5.690000e+02   5.690000e+02     5.690000e+02  5.690000e+02   \n",
       "mean  -2.333224e-15   1.763674e-15    -1.198026e-15  5.049661e-16   \n",
       "std    1.000880e+00   1.000880e+00     1.000880e+00  1.000880e+00   \n",
       "min   -1.726901e+00  -2.223994e+00    -1.693361e+00 -1.222423e+00   \n",
       "25%   -6.749213e-01  -7.486293e-01    -6.895783e-01 -6.421359e-01   \n",
       "50%   -2.690395e-01  -4.351564e-02    -2.859802e-01 -3.411812e-01   \n",
       "75%    5.220158e-01   6.583411e-01     5.402790e-01  3.575891e-01   \n",
       "max    4.094189e+00   3.885905e+00     4.287337e+00  5.930172e+00   \n",
       "\n",
       "       worst smoothness  worst compactness  worst concavity  \\\n",
       "count      5.690000e+02       5.690000e+02     5.690000e+02   \n",
       "mean      -5.213170e-15      -2.174788e-15     6.856456e-16   \n",
       "std        1.000880e+00       1.000880e+00     1.000880e+00   \n",
       "min       -2.682695e+00      -1.443878e+00    -1.305831e+00   \n",
       "25%       -6.912304e-01      -6.810833e-01    -7.565142e-01   \n",
       "50%       -4.684277e-02      -2.695009e-01    -2.182321e-01   \n",
       "75%        5.975448e-01       5.396688e-01     5.311411e-01   \n",
       "max        3.955374e+00       5.112877e+00     4.700669e+00   \n",
       "\n",
       "       worst concave points  worst symmetry  worst fractal dimension  \n",
       "count          5.690000e+02    5.690000e+02             5.690000e+02  \n",
       "mean          -1.412656e-16   -2.289567e-15             2.575171e-15  \n",
       "std            1.000880e+00    1.000880e+00             1.000880e+00  \n",
       "min           -1.745063e+00   -2.160960e+00            -1.601839e+00  \n",
       "25%           -7.563999e-01   -6.418637e-01            -6.919118e-01  \n",
       "50%           -2.234689e-01   -1.274095e-01            -2.164441e-01  \n",
       "75%            7.125100e-01    4.501382e-01             4.507624e-01  \n",
       "max            2.685877e+00    6.046041e+00             6.846856e+00  \n",
       "\n",
       "[8 rows x 30 columns]"
      ]
     },
     "execution_count": 8,
     "metadata": {},
     "output_type": "execute_result"
    }
   ],
   "source": [
    "wdbc_data.describe()"
   ]
  },
  {
   "cell_type": "code",
   "execution_count": 9,
   "metadata": {},
   "outputs": [
    {
     "data": {
      "image/png": "[encoded data removed]",
      "text/plain": [
       "<matplotlib.figure.Figure at 0x15be23d4f28>"
      ]
     },
     "metadata": {},
     "output_type": "display_data"
    }
   ],
   "source": [
    "wdbc_data.hist(bins=50, figsize=(20, 15))\n",
    "plt.show()"
   ]
  },
  {
   "cell_type": "code",
   "execution_count": 10,
   "metadata": {},
   "outputs": [
    {
     "data": {
      "text/html": [
       "<div>\n",
       "<style>\n",
       "    .dataframe thead tr:only-child th {\n",
       "        text-align: right;\n",
       "    }\n",
       "\n",
       "    .dataframe thead th {\n",
       "        text-align: left;\n",
       "    }\n",
       "\n",
       "    .dataframe tbody tr th {\n",
       "        vertical-align: top;\n",
       "    }\n",
       "</style>\n",
       "<table border=\"1\" class=\"dataframe\">\n",
       "  <thead>\n",
       "    <tr style=\"text-align: right;\">\n",
       "      <th></th>\n",
       "      <th>mean radius</th>\n",
       "      <th>mean texture</th>\n",
       "      <th>mean perimeter</th>\n",
       "      <th>mean area</th>\n",
       "      <th>mean smoothness</th>\n",
       "      <th>mean compactness</th>\n",
       "      <th>mean concavity</th>\n",
       "      <th>mean concave points</th>\n",
       "      <th>mean symmetry</th>\n",
       "      <th>mean fractal dimension</th>\n",
       "      <th>...</th>\n",
       "      <th>worst radius</th>\n",
       "      <th>worst texture</th>\n",
       "      <th>worst perimeter</th>\n",
       "      <th>worst area</th>\n",
       "      <th>worst smoothness</th>\n",
       "      <th>worst compactness</th>\n",
       "      <th>worst concavity</th>\n",
       "      <th>worst concave points</th>\n",
       "      <th>worst symmetry</th>\n",
       "      <th>worst fractal dimension</th>\n",
       "    </tr>\n",
       "  </thead>\n",
       "  <tbody>\n",
       "    <tr>\n",
       "      <th>227</th>\n",
       "      <td>0.247862</td>\n",
       "      <td>-0.879550</td>\n",
       "      <td>0.225762</td>\n",
       "      <td>0.084216</td>\n",
       "      <td>-0.900263</td>\n",
       "      <td>0.099666</td>\n",
       "      <td>-0.298172</td>\n",
       "      <td>-0.286807</td>\n",
       "      <td>0.253307</td>\n",
       "      <td>-0.528427</td>\n",
       "      <td>...</td>\n",
       "      <td>0.029159</td>\n",
       "      <td>-1.036863</td>\n",
       "      <td>0.206678</td>\n",
       "      <td>-0.127243</td>\n",
       "      <td>-0.822738</td>\n",
       "      <td>0.689798</td>\n",
       "      <td>0.326287</td>\n",
       "      <td>0.354685</td>\n",
       "      <td>0.086138</td>\n",
       "      <td>-0.018055</td>\n",
       "    </tr>\n",
       "    <tr>\n",
       "      <th>399</th>\n",
       "      <td>-0.660984</td>\n",
       "      <td>-0.472313</td>\n",
       "      <td>-0.688248</td>\n",
       "      <td>-0.634204</td>\n",
       "      <td>-0.390718</td>\n",
       "      <td>-0.796360</td>\n",
       "      <td>-0.756680</td>\n",
       "      <td>-0.839314</td>\n",
       "      <td>0.129175</td>\n",
       "      <td>-0.369656</td>\n",
       "      <td>...</td>\n",
       "      <td>-0.583805</td>\n",
       "      <td>-0.193332</td>\n",
       "      <td>-0.633283</td>\n",
       "      <td>-0.560041</td>\n",
       "      <td>-0.349310</td>\n",
       "      <td>-0.519504</td>\n",
       "      <td>-0.610669</td>\n",
       "      <td>-0.929526</td>\n",
       "      <td>-0.196974</td>\n",
       "      <td>-0.151608</td>\n",
       "    </tr>\n",
       "    <tr>\n",
       "      <th>178</th>\n",
       "      <td>-0.317327</td>\n",
       "      <td>0.681912</td>\n",
       "      <td>-0.410215</td>\n",
       "      <td>-0.365436</td>\n",
       "      <td>-2.408970</td>\n",
       "      <td>-1.610136</td>\n",
       "      <td>-1.094848</td>\n",
       "      <td>-1.214049</td>\n",
       "      <td>-1.521051</td>\n",
       "      <td>-1.482475</td>\n",
       "      <td>...</td>\n",
       "      <td>-0.469910</td>\n",
       "      <td>0.544350</td>\n",
       "      <td>-0.568350</td>\n",
       "      <td>-0.477771</td>\n",
       "      <td>-2.240829</td>\n",
       "      <td>-1.399158</td>\n",
       "      <td>-1.267561</td>\n",
       "      <td>-1.604080</td>\n",
       "      <td>-0.979980</td>\n",
       "      <td>-1.413980</td>\n",
       "    </tr>\n",
       "    <tr>\n",
       "      <th>31</th>\n",
       "      <td>-0.649623</td>\n",
       "      <td>-0.137215</td>\n",
       "      <td>-0.578271</td>\n",
       "      <td>-0.609460</td>\n",
       "      <td>1.034726</td>\n",
       "      <td>0.895628</td>\n",
       "      <td>0.414323</td>\n",
       "      <td>0.074825</td>\n",
       "      <td>1.786704</td>\n",
       "      <td>2.153679</td>\n",
       "      <td>...</td>\n",
       "      <td>0.114063</td>\n",
       "      <td>0.397791</td>\n",
       "      <td>0.361564</td>\n",
       "      <td>0.014269</td>\n",
       "      <td>1.373440</td>\n",
       "      <td>2.056226</td>\n",
       "      <td>2.031327</td>\n",
       "      <td>0.608969</td>\n",
       "      <td>3.009467</td>\n",
       "      <td>3.117372</td>\n",
       "    </tr>\n",
       "    <tr>\n",
       "      <th>96</th>\n",
       "      <td>-0.553058</td>\n",
       "      <td>-0.337343</td>\n",
       "      <td>-0.584037</td>\n",
       "      <td>-0.579597</td>\n",
       "      <td>0.579267</td>\n",
       "      <td>-0.640010</td>\n",
       "      <td>-0.802254</td>\n",
       "      <td>-0.503219</td>\n",
       "      <td>0.322675</td>\n",
       "      <td>0.503588</td>\n",
       "      <td>...</td>\n",
       "      <td>-0.712196</td>\n",
       "      <td>-0.774684</td>\n",
       "      <td>-0.748256</td>\n",
       "      <td>-0.677470</td>\n",
       "      <td>-0.805204</td>\n",
       "      <td>-1.022181</td>\n",
       "      <td>-1.066914</td>\n",
       "      <td>-0.849434</td>\n",
       "      <td>-1.089989</td>\n",
       "      <td>-0.564455</td>\n",
       "    </tr>\n",
       "  </tbody>\n",
       "</table>\n",
       "<p>5 rows × 30 columns</p>\n",
       "</div>"
      ],
      "text/plain": [
       "     mean radius  mean texture  mean perimeter  mean area  mean smoothness  \\\n",
       "227     0.247862     -0.879550        0.225762   0.084216        -0.900263   \n",
       "399    -0.660984     -0.472313       -0.688248  -0.634204        -0.390718   \n",
       "178    -0.317327      0.681912       -0.410215  -0.365436        -2.408970   \n",
       "31     -0.649623     -0.137215       -0.578271  -0.609460         1.034726   \n",
       "96     -0.553058     -0.337343       -0.584037  -0.579597         0.579267   \n",
       "\n",
       "     mean compactness  mean concavity  mean concave points  mean symmetry  \\\n",
       "227          0.099666       -0.298172            -0.286807       0.253307   \n",
       "399         -0.796360       -0.756680            -0.839314       0.129175   \n",
       "178         -1.610136       -1.094848            -1.214049      -1.521051   \n",
       "31           0.895628        0.414323             0.074825       1.786704   \n",
       "96          -0.640010       -0.802254            -0.503219       0.322675   \n",
       "\n",
       "     mean fractal dimension           ...             worst radius  \\\n",
       "227               -0.528427           ...                 0.029159   \n",
       "399               -0.369656           ...                -0.583805   \n",
       "178               -1.482475           ...                -0.469910   \n",
       "31                 2.153679           ...                 0.114063   \n",
       "96                 0.503588           ...                -0.712196   \n",
       "\n",
       "     worst texture  worst perimeter  worst area  worst smoothness  \\\n",
       "227      -1.036863         0.206678   -0.127243         -0.822738   \n",
       "399      -0.193332        -0.633283   -0.560041         -0.349310   \n",
       "178       0.544350        -0.568350   -0.477771         -2.240829   \n",
       "31        0.397791         0.361564    0.014269          1.373440   \n",
       "96       -0.774684        -0.748256   -0.677470         -0.805204   \n",
       "\n",
       "     worst compactness  worst concavity  worst concave points  worst symmetry  \\\n",
       "227           0.689798         0.326287              0.354685        0.086138   \n",
       "399          -0.519504        -0.610669             -0.929526       -0.196974   \n",
       "178          -1.399158        -1.267561             -1.604080       -0.979980   \n",
       "31            2.056226         2.031327              0.608969        3.009467   \n",
       "96           -1.022181        -1.066914             -0.849434       -1.089989   \n",
       "\n",
       "     worst fractal dimension  \n",
       "227                -0.018055  \n",
       "399                -0.151608  \n",
       "178                -1.413980  \n",
       "31                  3.117372  \n",
       "96                 -0.564455  \n",
       "\n",
       "[5 rows x 30 columns]"
      ]
     },
     "execution_count": 10,
     "metadata": {},
     "output_type": "execute_result"
    }
   ],
   "source": [
    "X_train, X_test = train_test_split(wdbc_data, test_size=0.2, random_state=923)\n",
    "y_train, y_test = train_test_split(wdbc_target, test_size=0.2, random_state=923)\n",
    "X_train.head(5)"
   ]
  },
  {
   "cell_type": "markdown",
   "metadata": {},
   "source": [
    "# Results"
   ]
  },
  {
   "cell_type": "markdown",
   "metadata": {},
   "source": [
    "## Linear Regression"
   ]
  },
  {
   "cell_type": "markdown",
   "metadata": {},
   "source": [
    "### Training a model"
   ]
  },
  {
   "cell_type": "code",
   "execution_count": 11,
   "metadata": {},
   "outputs": [
    {
     "data": {
      "text/plain": [
       "LinearRegression(copy_X=True, fit_intercept=True, n_jobs=1, normalize=False)"
      ]
     },
     "execution_count": 11,
     "metadata": {},
     "output_type": "execute_result"
    }
   ],
   "source": [
    "from sklearn.linear_model import LinearRegression\n",
    "\n",
    "lin_reg = LinearRegression()\n",
    "lin_reg.fit(X_train, y_train[1].values.reshape(-1,1))"
   ]
  },
  {
   "cell_type": "markdown",
   "metadata": {},
   "source": [
    "### Evaluating the linear model by MSE"
   ]
  },
  {
   "cell_type": "code",
   "execution_count": 12,
   "metadata": {},
   "outputs": [
    {
     "data": {
      "text/plain": [
       "0.24576734547950271"
      ]
     },
     "execution_count": 12,
     "metadata": {},
     "output_type": "execute_result"
    }
   ],
   "source": [
    "from sklearn.metrics import mean_squared_error\n",
    "cancer_prediction = lin_reg.predict(X_test)\n",
    "lin_mse = mean_squared_error(y_test[1].values.reshape(-1,1), cancer_prediction)\n",
    "lin_rmse = np.sqrt(lin_mse)\n",
    "lin_rmse"
   ]
  },
  {
   "cell_type": "markdown",
   "metadata": {},
   "source": [
    "## Random Forest"
   ]
  },
  {
   "cell_type": "markdown",
   "metadata": {},
   "source": [
    "### Training a model"
   ]
  },
  {
   "cell_type": "code",
   "execution_count": 13,
   "metadata": {},
   "outputs": [
    {
     "data": {
      "text/plain": [
       "RandomForestClassifier(bootstrap=True, class_weight=None, criterion='gini',\n",
       "            max_depth=None, max_features='auto', max_leaf_nodes=16,\n",
       "            min_impurity_split=1e-07, min_samples_leaf=1,\n",
       "            min_samples_split=2, min_weight_fraction_leaf=0.0,\n",
       "            n_estimators=500, n_jobs=-1, oob_score=False, random_state=923,\n",
       "            verbose=0, warm_start=False)"
      ]
     },
     "execution_count": 13,
     "metadata": {},
     "output_type": "execute_result"
    }
   ],
   "source": [
    "from sklearn.ensemble import RandomForestClassifier\n",
    "\n",
    "forest_clf = RandomForestClassifier(n_estimators=500, max_leaf_nodes=16, n_jobs=-1, random_state=923)\n",
    "forest_clf.fit(X_train, y_train[1])"
   ]
  },
  {
   "cell_type": "markdown",
   "metadata": {},
   "source": [
    "### Random Forest Accuracy"
   ]
  },
  {
   "cell_type": "code",
   "execution_count": 14,
   "metadata": {},
   "outputs": [
    {
     "name": "stdout",
     "output_type": "stream",
     "text": [
      "RandomForestClassifier 0.956140350877\n"
     ]
    }
   ],
   "source": [
    "from sklearn.metrics import accuracy_score\n",
    "\n",
    "forest_pred = forest_clf.predict(X_test)\n",
    "\n",
    "print(forest_clf.__class__.__name__, accuracy_score(y_test[1], forest_pred))"
   ]
  },
  {
   "cell_type": "markdown",
   "metadata": {},
   "source": [
    "# Neural Networks"
   ]
  },
  {
   "cell_type": "code",
   "execution_count": 15,
   "metadata": {
    "collapsed": true
   },
   "outputs": [],
   "source": [
    "import tensorflow as tf\n",
    "from datetime import datetime\n",
    "\n",
    "def reset_graph(seed=42):\n",
    "    tf.reset_default_graph()\n",
    "    tf.set_random_seed(seed)\n",
    "    np.random.seed(seed)\n",
    "    \n",
    "now = datetime.utcnow().strftime(\"%Y%m%d%H%M%S\")\n",
    "root_logdir = \"tf_logs\"\n",
    "logdir = \"{}/run-{}/\".format(root_logdir, now)"
   ]
  },
  {
   "cell_type": "code",
   "execution_count": 16,
   "metadata": {
    "collapsed": true
   },
   "outputs": [],
   "source": [
    "reset_graph()\n",
    "\n",
    "n_inputs = 30\n",
    "n_hidden1 = 50\n",
    "n_hidden2 = 50\n",
    "n_outputs = 2\n",
    "\n",
    "X = tf.placeholder(tf.float32, shape=(None, n_inputs), name=\"X\")\n",
    "y = tf.placeholder(tf.int32, shape=(None, n_outputs), name=\"y\")\n",
    "\n",
    "with tf.name_scope(\"dnn\"):\n",
    "    hidden1 = tf.layers.dense(X, n_hidden1, activation=tf.nn.relu, name=\"hidden1\")\n",
    "    #hidden2 = tf.layers.dense(hidden1, n_hidden2, activation=tf.nn.relu, name=\"hidden2\")\n",
    "    logits = tf.layers.dense(hidden1, n_outputs, name=\"outputs\")\n",
    "\n",
    "with tf.name_scope(\"loss\"):\n",
    "    xentropy = tf.nn.softmax_cross_entropy_with_logits(labels=y, logits=logits)\n",
    "    loss = tf.reduce_mean(xentropy, name=\"loss\")\n",
    "\n",
    "learning_rate = 0.0001\n",
    "\n",
    "with tf.name_scope(\"train\"):\n",
    "    optimizer = tf.train.AdamOptimizer(learning_rate)\n",
    "    training_op = optimizer.minimize(loss)\n",
    "\n",
    "with tf.name_scope(\"eval\"):\n",
    "    correct = tf.equal(tf.argmax(logits, 1), tf.argmax(y, 1))\n",
    "    accuracy = tf.reduce_mean(tf.cast(correct, tf.float32))\n",
    "\n",
    "init = tf.global_variables_initializer()\n",
    "saver = tf.train.Saver()"
   ]
  },
  {
   "cell_type": "code",
   "execution_count": 17,
   "metadata": {
    "collapsed": true
   },
   "outputs": [],
   "source": [
    "def fetch_batch(X_train, y_train, batch_size):\n",
    "    np.random.seed(epoch * n_batches + batch)  \n",
    "    indices = np.random.randint(len(X_train), size=batch_size)  \n",
    "    X_batch = X_train.values[indices]\n",
    "    y_batch = y_train.values.reshape(-1, 2)[indices]\n",
    "    \n",
    "    return X_batch, y_batch"
   ]
  },
  {
   "cell_type": "code",
   "execution_count": 18,
   "metadata": {
    "collapsed": true
   },
   "outputs": [],
   "source": [
    "acc_summary = tf.summary.scalar(\"ACC\", accuracy)\n",
    "loss_summary = tf.summary.scalar(\"LOSS\", loss)\n",
    "file_writer = tf.summary.FileWriter(logdir, tf.get_default_graph())"
   ]
  },
  {
   "cell_type": "code",
   "execution_count": 19,
   "metadata": {
    "scrolled": true
   },
   "outputs": [
    {
     "name": "stdout",
     "output_type": "stream",
     "text": [
      "0 Batch accuracy: 0.375 Validation accuracy: 0.368421\n",
      "5 Batch accuracy: 0.65625 Validation accuracy: 0.763158\n",
      "10 Batch accuracy: 0.96875 Validation accuracy: 0.877193\n",
      "15 Batch accuracy: 0.9375 Validation accuracy: 0.929825\n",
      "20 Batch accuracy: 0.90625 Validation accuracy: 0.929825\n",
      "25 Batch accuracy: 0.8125 Validation accuracy: 0.947369\n",
      "30 Batch accuracy: 0.9375 Validation accuracy: 0.947368\n",
      "35 Batch accuracy: 0.96875 Validation accuracy: 0.947368\n",
      "40 Batch accuracy: 0.96875 Validation accuracy: 0.947369\n",
      "45 Batch accuracy: 0.9375 Validation accuracy: 0.947369\n",
      "50 Batch accuracy: 0.96875 Validation accuracy: 0.95614\n",
      "55 Batch accuracy: 0.9375 Validation accuracy: 0.964912\n",
      "60 Batch accuracy: 0.90625 Validation accuracy: 0.964912\n",
      "65 Batch accuracy: 0.96875 Validation accuracy: 0.964912\n",
      "70 Batch accuracy: 0.96875 Validation accuracy: 0.964912\n",
      "75 Batch accuracy: 0.9375 Validation accuracy: 0.964912\n",
      "80 Batch accuracy: 0.96875 Validation accuracy: 0.964912\n",
      "85 Batch accuracy: 1.0 Validation accuracy: 0.964912\n",
      "90 Batch accuracy: 0.96875 Validation accuracy: 0.964912\n",
      "95 Batch accuracy: 1.0 Validation accuracy: 0.964912\n",
      "100 Batch accuracy: 1.0 Validation accuracy: 0.964912\n",
      "105 Batch accuracy: 1.0 Validation accuracy: 0.973684\n",
      "110 Batch accuracy: 0.9375 Validation accuracy: 0.973684\n",
      "115 Batch accuracy: 0.96875 Validation accuracy: 0.973684\n",
      "120 Batch accuracy: 0.96875 Validation accuracy: 0.973684\n",
      "125 Batch accuracy: 1.0 Validation accuracy: 0.973684\n",
      "130 Batch accuracy: 1.0 Validation accuracy: 0.973684\n",
      "135 Batch accuracy: 1.0 Validation accuracy: 0.973684\n",
      "140 Batch accuracy: 1.0 Validation accuracy: 0.973684\n",
      "145 Batch accuracy: 0.96875 Validation accuracy: 0.973684\n"
     ]
    }
   ],
   "source": [
    "n_epochs = 150\n",
    "batch_size = 32\n",
    "n_batches = int(np.ceil(X_train.shape[0])/batch_size)\n",
    "\n",
    "with tf.Session() as sess:\n",
    "    init.run()\n",
    "    for epoch in range(n_epochs):\n",
    "        for batch in range(n_batches):\n",
    "            X_batch, y_batch = fetch_batch(X_train, y_train, batch_size)\n",
    "            if batch % 5 == 0:\n",
    "                summary_acc = acc_summary.eval(feed_dict={X: X_batch, y: y_batch})\n",
    "                summary_loss = loss_summary.eval(feed_dict={X: X_batch, y: y_batch})\n",
    "                step = epoch * n_batches + batch\n",
    "                file_writer.add_summary(summary_acc, step)\n",
    "                file_writer.add_summary(summary_loss, step)\n",
    "                \n",
    "            sess.run(training_op, feed_dict={X: X_batch, y: y_batch})\n",
    "        \n",
    "        if epoch % 5 == 0:\n",
    "            acc_train = accuracy.eval(feed_dict={X: X_batch, y: y_batch})\n",
    "            acc_test = accuracy.eval(feed_dict={X: X_test, y: y_test})\n",
    "            print(epoch, \"Batch accuracy:\", acc_train, \"Validation accuracy:\", acc_test)\n",
    "            \n",
    "    save_path = saver.save(sess, \"./tmp/my_model_hidden1.ckpt\")\n",
    "\n",
    "file_writer.close()"
   ]
  },
  {
   "cell_type": "markdown",
   "metadata": {},
   "source": [
    "## K-Means Clustering"
   ]
  },
  {
   "cell_type": "markdown",
   "metadata": {},
   "source": [
    "### Training a model"
   ]
  },
  {
   "cell_type": "code",
   "execution_count": 20,
   "metadata": {
    "collapsed": true
   },
   "outputs": [],
   "source": [
    "kmeans = KMeans(n_clusters=2, random_state=923).fit(X_train)"
   ]
  },
  {
   "cell_type": "markdown",
   "metadata": {},
   "source": [
    "### K-Means clustering performance evaluation"
   ]
  },
  {
   "cell_type": "code",
   "execution_count": 21,
   "metadata": {},
   "outputs": [
    {
     "name": "stdout",
     "output_type": "stream",
     "text": [
      "K-Means adjusted rand index :0.648110941459\n",
      "K-Means silhouette score :0.719567139402\n"
     ]
    }
   ],
   "source": [
    "from sklearn.metrics import silhouette_score\n",
    "from sklearn.metrics import adjusted_rand_score\n",
    "\n",
    "kmeans_pred = kmeans.predict(X_test)\n",
    "\n",
    "print('K-Means adjusted rand index :' + str(adjusted_rand_score(y_test[1], kmeans_pred)))\n",
    "print('K-Means silhouette score :' +  str(silhouette_score(y_test[1].values.reshape(-1, 1), kmeans_pred)))"
   ]
  },
  {
   "cell_type": "markdown",
   "metadata": {},
   "source": [
    "# Discussion"
   ]
  },
  {
   "cell_type": "markdown",
   "metadata": {},
   "source": [
    "## The coefficients of the linear regression model"
   ]
  },
  {
   "cell_type": "code",
   "execution_count": 22,
   "metadata": {},
   "outputs": [
    {
     "data": {
      "text/html": [
       "<div>\n",
       "<style>\n",
       "    .dataframe thead tr:only-child th {\n",
       "        text-align: right;\n",
       "    }\n",
       "\n",
       "    .dataframe thead th {\n",
       "        text-align: left;\n",
       "    }\n",
       "\n",
       "    .dataframe tbody tr th {\n",
       "        vertical-align: top;\n",
       "    }\n",
       "</style>\n",
       "<table border=\"1\" class=\"dataframe\">\n",
       "  <thead>\n",
       "    <tr style=\"text-align: right;\">\n",
       "      <th></th>\n",
       "      <th>mean radius</th>\n",
       "      <th>mean texture</th>\n",
       "      <th>mean perimeter</th>\n",
       "      <th>mean area</th>\n",
       "      <th>mean smoothness</th>\n",
       "      <th>mean compactness</th>\n",
       "      <th>mean concavity</th>\n",
       "      <th>mean concave points</th>\n",
       "      <th>mean symmetry</th>\n",
       "      <th>mean fractal dimension</th>\n",
       "      <th>...</th>\n",
       "      <th>worst radius</th>\n",
       "      <th>worst texture</th>\n",
       "      <th>worst perimeter</th>\n",
       "      <th>worst area</th>\n",
       "      <th>worst smoothness</th>\n",
       "      <th>worst compactness</th>\n",
       "      <th>worst concavity</th>\n",
       "      <th>worst concave points</th>\n",
       "      <th>worst symmetry</th>\n",
       "      <th>worst fractal dimension</th>\n",
       "    </tr>\n",
       "  </thead>\n",
       "  <tbody>\n",
       "    <tr>\n",
       "      <th>0</th>\n",
       "      <td>1.279144</td>\n",
       "      <td>0.004262</td>\n",
       "      <td>-0.722498</td>\n",
       "      <td>-0.398234</td>\n",
       "      <td>0.029858</td>\n",
       "      <td>0.151273</td>\n",
       "      <td>-0.032592</td>\n",
       "      <td>-0.128489</td>\n",
       "      <td>-0.020624</td>\n",
       "      <td>0.018748</td>\n",
       "      <td>...</td>\n",
       "      <td>-1.356691</td>\n",
       "      <td>-0.067839</td>\n",
       "      <td>0.157268</td>\n",
       "      <td>0.807543</td>\n",
       "      <td>-0.024393</td>\n",
       "      <td>-0.01183</td>\n",
       "      <td>-0.067835</td>\n",
       "      <td>-0.016514</td>\n",
       "      <td>-0.011088</td>\n",
       "      <td>-0.07449</td>\n",
       "    </tr>\n",
       "  </tbody>\n",
       "</table>\n",
       "<p>1 rows × 30 columns</p>\n",
       "</div>"
      ],
      "text/plain": [
       "   mean radius  mean texture  mean perimeter  mean area  mean smoothness  \\\n",
       "0     1.279144      0.004262       -0.722498  -0.398234         0.029858   \n",
       "\n",
       "   mean compactness  mean concavity  mean concave points  mean symmetry  \\\n",
       "0          0.151273       -0.032592            -0.128489      -0.020624   \n",
       "\n",
       "   mean fractal dimension           ...             worst radius  \\\n",
       "0                0.018748           ...                -1.356691   \n",
       "\n",
       "   worst texture  worst perimeter  worst area  worst smoothness  \\\n",
       "0      -0.067839         0.157268    0.807543         -0.024393   \n",
       "\n",
       "   worst compactness  worst concavity  worst concave points  worst symmetry  \\\n",
       "0           -0.01183        -0.067835             -0.016514       -0.011088   \n",
       "\n",
       "   worst fractal dimension  \n",
       "0                 -0.07449  \n",
       "\n",
       "[1 rows x 30 columns]"
      ]
     },
     "execution_count": 22,
     "metadata": {},
     "output_type": "execute_result"
    }
   ],
   "source": [
    "lin_reg_coef = pd.DataFrame(lin_reg.coef_, columns = COL_NAMES)\n",
    "lin_reg_coef"
   ]
  },
  {
   "cell_type": "markdown",
   "metadata": {},
   "source": [
    "## The most informative features in the random forest model: Rank 5"
   ]
  },
  {
   "cell_type": "code",
   "execution_count": 23,
   "metadata": {},
   "outputs": [
    {
     "data": {
      "text/html": [
       "<div>\n",
       "<style>\n",
       "    .dataframe thead tr:only-child th {\n",
       "        text-align: right;\n",
       "    }\n",
       "\n",
       "    .dataframe thead th {\n",
       "        text-align: left;\n",
       "    }\n",
       "\n",
       "    .dataframe tbody tr th {\n",
       "        vertical-align: top;\n",
       "    }\n",
       "</style>\n",
       "<table border=\"1\" class=\"dataframe\">\n",
       "  <thead>\n",
       "    <tr style=\"text-align: right;\">\n",
       "      <th></th>\n",
       "      <th>feat_importance</th>\n",
       "      <th>feat_name</th>\n",
       "    </tr>\n",
       "  </thead>\n",
       "  <tbody>\n",
       "    <tr>\n",
       "      <th>20</th>\n",
       "      <td>0.126268</td>\n",
       "      <td>worst radius</td>\n",
       "    </tr>\n",
       "    <tr>\n",
       "      <th>27</th>\n",
       "      <td>0.123345</td>\n",
       "      <td>worst concave points</td>\n",
       "    </tr>\n",
       "    <tr>\n",
       "      <th>22</th>\n",
       "      <td>0.117050</td>\n",
       "      <td>worst perimeter</td>\n",
       "    </tr>\n",
       "    <tr>\n",
       "      <th>23</th>\n",
       "      <td>0.112717</td>\n",
       "      <td>worst area</td>\n",
       "    </tr>\n",
       "    <tr>\n",
       "      <th>7</th>\n",
       "      <td>0.089733</td>\n",
       "      <td>mean concave points</td>\n",
       "    </tr>\n",
       "  </tbody>\n",
       "</table>\n",
       "</div>"
      ],
      "text/plain": [
       "    feat_importance             feat_name\n",
       "20         0.126268          worst radius\n",
       "27         0.123345  worst concave points\n",
       "22         0.117050       worst perimeter\n",
       "23         0.112717            worst area\n",
       "7          0.089733   mean concave points"
      ]
     },
     "execution_count": 23,
     "metadata": {},
     "output_type": "execute_result"
    }
   ],
   "source": [
    "feature_rank = pd.DataFrame(forest_clf.feature_importances_, columns=['feat_importance'])\n",
    "feature_rank['feat_name'] = pd.Series(COL_NAMES, index=feature_rank.index)\n",
    "feature_rank = feature_rank.sort_values('feat_importance', ascending=False)\n",
    "feature_rank.head(5)"
   ]
  },
  {
   "cell_type": "markdown",
   "metadata": {},
   "source": [
    "## Discuss the result of the K-Means clustering"
   ]
  },
  {
   "cell_type": "code",
   "execution_count": 24,
   "metadata": {},
   "outputs": [
    {
     "name": "stdout",
     "output_type": "stream",
     "text": [
      "K-Means adjusted rand index(k_means_wdbc_10) :0.210006193961\n",
      "K-Means adjusted rand index(k_means_wdbc_5) :0.284508148816\n",
      "K-Means adjusted rand index(k_means_wdbc_3) :0.438375962908\n",
      "K-Means adjusted rand index(k_means_wdbc_2) :0.648110941459\n"
     ]
    }
   ],
   "source": [
    "estimators = [('k_means_wdbc_10', KMeans(n_clusters=10, random_state=923)),\n",
    "              ('k_means_wdbc_5', KMeans(n_clusters=5, random_state=923)),\n",
    "              ('k_means_wdbc_3', KMeans(n_clusters=3, random_state=923)),\n",
    "              ('k_means_wdbc_2', KMeans(n_clusters=2, random_state=923))]\n",
    "\n",
    "for name, est in estimators:\n",
    "    kmeans=est.fit(X_train)\n",
    "    kmeans_pred=est.predict(X_test)\n",
    "    print('K-Means adjusted rand index({}) :'.format(name) + str(adjusted_rand_score(y_test[1], kmeans_pred)))"
   ]
  },
  {
   "cell_type": "markdown",
   "metadata": {},
   "source": [
    "The highest score is yield from 2 clusters model."
   ]
  },
  {
   "cell_type": "markdown",
   "metadata": {},
   "source": [
    "## How does the classification accuracy change with different number of hidden layers?"
   ]
  },
  {
   "cell_type": "code",
   "execution_count": 25,
   "metadata": {
    "collapsed": true
   },
   "outputs": [],
   "source": [
    "import matplotlib.pyplot as plt\n",
    "%matplotlib inline"
   ]
  },
  {
   "cell_type": "code",
   "execution_count": 26,
   "metadata": {
    "collapsed": true
   },
   "outputs": [],
   "source": [
    "layer1_acc = pd.read_csv('layer1-acc.csv')\n",
    "layer2_acc = pd.read_csv('layer2-acc.csv')\n",
    "layer1_loss = pd.read_csv('layer1-loss.csv')\n",
    "layer2_loss = pd.read_csv('layer2-loss.csv')"
   ]
  },
  {
   "cell_type": "code",
   "execution_count": 27,
   "metadata": {},
   "outputs": [
    {
     "data": {
      "text/plain": [
       "Index(['Wall time', 'Step', 'Value'], dtype='object')"
      ]
     },
     "execution_count": 27,
     "metadata": {},
     "output_type": "execute_result"
    }
   ],
   "source": [
    "layer1_acc.keys()"
   ]
  },
  {
   "cell_type": "code",
   "execution_count": 28,
   "metadata": {},
   "outputs": [
    {
     "data": {
      "image/png": "[encoded data removed]",
      "text/plain": [
       "<matplotlib.figure.Figure at 0x15be4039390>"
      ]
     },
     "metadata": {},
     "output_type": "display_data"
    }
   ],
   "source": [
    "plt.figure(figsize=(14, 10))\n",
    "\n",
    "plt.subplot(211)\n",
    "plt.plot(layer1_acc['Step'], layer1_acc['Value'], color='#db3236', label='single layer')\n",
    "plt.plot(layer2_acc['Step'], layer2_acc['Value'], color='#4885ed', label='two layers')\n",
    "plt.title('Training accuracy: single layer vs. two layers')\n",
    "plt.legend()\n",
    "\n",
    "plt.subplot(212)\n",
    "plt.plot(layer1_loss['Step'], layer1_loss['Value'], color='#db3236', label='single layer')\n",
    "plt.plot(layer2_loss['Step'], layer2_loss['Value'], color='#4885ed', label='two layers')\n",
    "plt.title('Training loss: single layer vs. two layers')\n",
    "plt.legend()\n",
    "\n",
    "plt.show()\n"
   ]
  },
  {
   "cell_type": "markdown",
   "metadata": {},
   "source": [
    "When we incereasing the number of layers in double, training accuracy and loss are slightly increased."
   ]
  },
  {
   "cell_type": "markdown",
   "metadata": {},
   "source": [
    "# Conclusion"
   ]
  },
  {
   "cell_type": "markdown",
   "metadata": {},
   "source": [
    "In this project, I have tested four different models to diagnose breast cancer. The neural network model which has two hidden layers yeild the best performance to predict malignant breast cancer (~97% accuracy). I expect the model would have better performance with fine-tuning process. "
   ]
  }
 ],
 "metadata": {
  "kernelspec": {
   "display_name": "Python 3",
   "language": "python",
   "name": "python3"
  },
  "language_info": {
   "codemirror_mode": {
    "name": "ipython",
    "version": 3
   },
   "file_extension": ".py",
   "mimetype": "text/x-python",
   "name": "python",
   "nbconvert_exporter": "python",
   "pygments_lexer": "ipython3",
   "version": "3.6.2"
  }
 },
 "nbformat": 4,
 "nbformat_minor": 2
}
