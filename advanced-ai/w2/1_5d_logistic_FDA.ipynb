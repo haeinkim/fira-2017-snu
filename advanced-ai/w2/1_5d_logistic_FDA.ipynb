{
 "cells": [
  {
   "cell_type": "markdown",
   "metadata": {},
   "source": [
    "##Data Generation"
   ]
  },
  {
   "cell_type": "code",
   "execution_count": 1,
   "metadata": {
    "collapsed": false
   },
   "outputs": [
    {
     "name": "stdout",
     "output_type": "stream",
     "text": [
      "Populating the interactive namespace from numpy and matplotlib\n"
     ]
    }
   ],
   "source": [
    "import tensorflow as tf\n",
    "import numpy as np\n",
    "import matplotlib.pyplot as plt\n",
    "\n",
    "%pylab inline"
   ]
  },
  {
   "cell_type": "code",
   "execution_count": 2,
   "metadata": {
    "collapsed": false
   },
   "outputs": [
    {
     "name": "stderr",
     "output_type": "stream",
     "text": [
      "/usr/local/lib/python2.7/dist-packages/IPython/kernel/__main__.py:16: RuntimeWarning: covariance is not positive-semidefinite.\n"
     ]
    }
   ],
   "source": [
    "n_data_per_class = 100\n",
    "num_class = 2\n",
    "dim_data = 5\n",
    "n_data = n_data_per_class * num_class\n",
    "n_train = n_data_per_class\n",
    "\n",
    "mean1 = [1,0,0,0,0]\n",
    "mean2 = [0,0,0,0,0]\n",
    "\n",
    "cov1 = np.random.randn(dim_data, dim_data)\n",
    "cov1 = np.dot(cov1.T, cov1)\n",
    "cov2 = np.random.randn(dim_data, dim_data)\n",
    "cov2 = cov1 + .001*np.dot(cov2, cov2)\n",
    "\n",
    "data1 = np.random.multivariate_normal(mean1, cov1, n_data_per_class).astype(np.float32)\n",
    "data2 = np.random.multivariate_normal(mean2, cov2, n_data_per_class).astype(np.float32)\n",
    "data_x = np.vstack([data1,data2])\n",
    "data_y = np.hstack([np.ones((n_data_per_class,)), -np.ones((n_data_per_class,))])"
   ]
  },
  {
   "cell_type": "code",
   "execution_count": 3,
   "metadata": {
    "collapsed": false
   },
   "outputs": [
    {
     "name": "stdout",
     "output_type": "stream",
     "text": [
      "blues are class -1 and reds are class 1\n"
     ]
    },
    {
     "data": {
      "image/png": "[encoded data removed]",
      "text/plain": [
       "<matplotlib.figure.Figure at 0x7f3877750290>"
      ]
     },
     "metadata": {},
     "output_type": "display_data"
    }
   ],
   "source": [
    "print 'blues are class -1 and reds are class 1'\n",
    "plt.rcParams['figure.figsize']=(5,5)\n",
    "plt.scatter(data1[:,0],data1[:,1],30,'r')\n",
    "plt.scatter(data2[:,0],data2[:,1],30,'b')\n",
    "[x1min,x1max,x2min,x2max] = plt.axis()\n",
    "x1val = np.arange(x1min,x1max,0.1)\n",
    "plt.axis([x1min,x1max,x2min,x2max])\n",
    "plt.show()"
   ]
  },
  {
   "cell_type": "markdown",
   "metadata": {},
   "source": [
    "##Logistic Regression"
   ]
  },
  {
   "cell_type": "code",
   "execution_count": 4,
   "metadata": {
    "collapsed": true
   },
   "outputs": [],
   "source": [
    "x = tf.placeholder(tf.float32, [None, dim_data])\n",
    "W = tf.Variable(tf.zeros([dim_data,1]))\n",
    "b = tf.Variable(tf.zeros([1]))\n",
    "y_true = tf.placeholder(tf.float32, [None])\n",
    "\n",
    "a = tf.matmul(x, W) + b\n",
    "p_y = tf.sigmoid(tf.multiply(a ,tf.reshape(y_true, [-1,1]) ))\n",
    "\n",
    "loss = tf.reduce_mean(-tf.log(p_y))\n",
    "train_step = tf.train.GradientDescentOptimizer(0.5).minimize(loss)\n",
    "\n"
   ]
  },
  {
   "cell_type": "code",
   "execution_count": 5,
   "metadata": {
    "collapsed": false
   },
   "outputs": [],
   "source": [
    "config = tf.ConfigProto()\n",
    "config.gpu_options.allow_growth=True\n",
    "sess = tf.Session(config=config)\n",
    "\n",
    "sess.run(tf.global_variables_initializer())\n"
   ]
  },
  {
   "cell_type": "markdown",
   "metadata": {},
   "source": [
    "##FDA"
   ]
  },
  {
   "cell_type": "code",
   "execution_count": 6,
   "metadata": {
    "collapsed": true
   },
   "outputs": [],
   "source": [
    "from sklearn.discriminant_analysis import LinearDiscriminantAnalysis as LDA\n",
    "\n",
    "# LDA\n",
    "sklearn_lda = LDA(n_components=2)\n"
   ]
  },
  {
   "cell_type": "markdown",
   "metadata": {},
   "source": [
    "##Compare the models"
   ]
  },
  {
   "cell_type": "code",
   "execution_count": 17,
   "metadata": {
    "collapsed": false
   },
   "outputs": [],
   "source": [
    "def run_models(num_train_data, num_training_steps=30):\n",
    "    \n",
    "    sess.run(tf.global_variables_initializer())\n",
    "    \n",
    "    wval = sess.run(W) # 2 by 1   \n",
    "    bval = sess.run(b) # 1\n",
    "    #print wval, bval\n",
    "    \n",
    "    train_x = np.vstack([data1[:num_train_data],data2[:num_train_data]])\n",
    "    train_y = np.hstack([np.ones((num_train_data,)), -np.ones((num_train_data,))])\n",
    "\n",
    "    test_x = np.vstack([data1[num_train_data:],data2[num_train_data:]])\n",
    "    num_test = n_data_per_class-num_train_data\n",
    "    test_y = np.hstack([np.ones((num_test,)), -np.ones((num_test,))])\n",
    "    \n",
    "    w_history = []\n",
    "    b_history = []\n",
    "    acc_history = []\n",
    "    for i in range(num_training_steps):\n",
    "        sess.run(train_step, feed_dict={x: train_x, y_true: train_y})\n",
    "        w_history.append( sess.run(W) )\n",
    "        b_history.append( sess.run(b) )\n",
    "        #loss_history.append( sess.run(loss, feed_dict={x: train_x, y_true: train_y}) )\n",
    "    \n",
    "    \n",
    "        a_tst = sess.run(a, feed_dict = {x:test_x, y_true: test_y})\n",
    "        n_correct_c1 = sum(a_tst[:num_test] >= 0)\n",
    "        n_correct_c2 = sum(a_tst[num_test:] < 0)\n",
    "        acc = (n_correct_c1 + n_correct_c2) / (float(num_test)*2)\n",
    "    \n",
    "        acc_history.append(acc)\n",
    "    \n",
    "    return w_history, b_history, acc_history\n",
    "\n",
    "   "
   ]
  },
  {
   "cell_type": "code",
   "execution_count": 18,
   "metadata": {
    "collapsed": false
   },
   "outputs": [],
   "source": [
    "import IPython.html.widgets as widgets\n",
    "from IPython.html.widgets import interact, interactive, fixed, interact_manual"
   ]
  },
  {
   "cell_type": "code",
   "execution_count": 19,
   "metadata": {
    "collapsed": true
   },
   "outputs": [],
   "source": [
    "def visualize(w_his, b_his, acc_his, iter_step, num_train_data):\n",
    "    num_test = n_data_per_class-num_train_data\n",
    "\n",
    "    \n",
    "    print \"accuracy of the LR: \" + str(acc_his[iter_step])\n",
    "    \n",
    "    train_x = np.vstack([data1[:num_train_data],data2[:num_train_data]])\n",
    "    train_y = np.hstack([np.ones((num_train_data,)), -np.ones((num_train_data,))])\n",
    "\n",
    "    test_x = np.vstack([data1[num_train_data:],data2[num_train_data:]])\n",
    "    test_y = np.hstack([np.ones((num_test,)), -np.ones((num_test,))])\n",
    "\n",
    "    X_lda_sklearn = sklearn_lda.fit_transform(train_x, train_y)\n",
    "    transformed = sklearn_lda.transform(train_x)\n",
    "    transformed = sklearn_lda.transform(test_x)\n",
    "\n",
    "    tst_result = sklearn_lda.predict(test_x)\n",
    "    n_correct_c1 = sum(tst_result[:num_test] == 1)\n",
    "    n_correct_c2 = sum(tst_result[num_test:] == -1)\n",
    "\n",
    "    acc = (n_correct_c1 + n_correct_c2) / (float(num_test)*2)\n",
    "    print \"accuracy of the FDA: \" + str(acc)\n"
   ]
  },
  {
   "cell_type": "code",
   "execution_count": 20,
   "metadata": {
    "collapsed": false
   },
   "outputs": [
    {
     "name": "stdout",
     "output_type": "stream",
     "text": [
      "accuracy of the LR: 0.61\n",
      "accuracy of the FDA: 0.78\n"
     ]
    }
   ],
   "source": [
    "#a_slider = widgets.IntSlider(min=3, max=n_data_per_class, step=1, value=3)\n",
    "#w_his, b_his = widgets.interactive(run_models, num_train_data = a_slider)\n",
    "num_train_data = 50\n",
    "w_his, b_his, acc_his = run_models(num_train_data)\n",
    "b_slider = widgets.IntSlider(min=1, max = 30, step = 1, value = 1)\n",
    "w=widgets.interactive(visualize, w_his = fixed(w_his), b_his = fixed(b_his), acc_his = fixed(acc_his), num_train_data = fixed(num_train_data), iter_step = b_slider)\n",
    "#w=widgets.interactive(visualize, w_his = w_his, b_his = b_his, num_train_data = num_train_data, iter_step = b_slider)\n",
    "display(w)"
   ]
  },
  {
   "cell_type": "code",
   "execution_count": 21,
   "metadata": {
    "collapsed": false
   },
   "outputs": [],
   "source": [
    "loss_lr = []\n",
    "loss_fda = []\n",
    "\n",
    "for num_train_data in range(5,50):\n",
    "    _, _, acc_his_lr = run_models(num_train_data, 50)\n",
    "    loss_lr.append([num_train_data, 1-acc_his_lr[-1]])\n",
    "    \n",
    "    train_x = np.vstack([data1[:num_train_data],data2[:num_train_data]])\n",
    "    train_y = np.hstack([np.ones((num_train_data,)), np.zeros((num_train_data,))])\n",
    "    \n",
    "    num_test = n_data_per_class-num_train_data\n",
    "\n",
    "    test_x = np.vstack([data1[num_train_data:],data2[num_train_data:]])\n",
    "    test_y = np.hstack([np.ones((num_test,)), np.zeros((num_test,))])\n",
    "     \n",
    "    X_lda_sklearn = sklearn_lda.fit_transform(train_x, train_y)\n",
    "    \n",
    "    tst_result = sklearn_lda.predict(test_x)\n",
    "    n_correct_c1 = sum(tst_result[:num_test] == 1)\n",
    "    n_correct_c2 = sum(tst_result[num_test:] == 0)\n",
    "\n",
    "    acc_fda =  (n_correct_c1 + n_correct_c2) / (float(num_test)*2) \n",
    "    loss_fda.append([num_train_data, 1-acc_fda])"
   ]
  },
  {
   "cell_type": "code",
   "execution_count": 25,
   "metadata": {
    "collapsed": false
   },
   "outputs": [
    {
     "data": {
      "image/png": "[encoded data removed]",
      "text/plain": [
       "<matplotlib.figure.Figure at 0x7f380a620a10>"
      ]
     },
     "metadata": {},
     "output_type": "display_data"
    }
   ],
   "source": [
    "loss_lr = np.vstack(loss_lr)\n",
    "loss_fda = np.vstack(loss_fda)\n",
    "figure\n",
    "\n",
    "plt.plot(loss_lr[:, 1], 'r')\n",
    "plt.plot(loss_fda[:, 1], 'b')\n",
    "#plt.scatter(loss_lr[:, 0], loss_lr[:, 1], 30, 'r')\n",
    "#plt.scatter(loss_fda[:, 0], loss_fda[:, 1], 30, 'b')\n",
    "plt.show()"
   ]
  },
  {
   "cell_type": "code",
   "execution_count": null,
   "metadata": {
    "collapsed": true
   },
   "outputs": [],
   "source": []
  }
 ],
 "metadata": {
  "kernelspec": {
   "display_name": "Python 2",
   "language": "python",
   "name": "python2"
  },
  "language_info": {
   "codemirror_mode": {
    "name": "ipython",
    "version": 2
   },
   "file_extension": ".py",
   "mimetype": "text/x-python",
   "name": "python",
   "nbconvert_exporter": "python",
   "pygments_lexer": "ipython2",
   "version": "2.7.6"
  }
 },
 "nbformat": 4,
 "nbformat_minor": 0
}
